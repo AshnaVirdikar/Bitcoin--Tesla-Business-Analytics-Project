{
  "nbformat": 4,
  "nbformat_minor": 0,
  "metadata": {
    "colab": {
      "provenance": []
    },
    "kernelspec": {
      "name": "python3",
      "display_name": "Python 3"
    },
    "language_info": {
      "name": "python"
    }
  },
  "cells": [
    {
      "cell_type": "code",
      "execution_count": null,
      "metadata": {
        "colab": {
          "base_uri": "https://localhost:8080/"
        },
        "id": "Sz_M1HG-dc3I",
        "outputId": "a162646b-de68-4f69-8297-fc3abcdd1d54"
      },
      "outputs": [
        {
          "output_type": "stream",
          "name": "stdout",
          "text": [
            "Collecting yfinance\n",
            "  Downloading yfinance-0.1.68-py2.py3-none-any.whl (26 kB)\n",
            "Requirement already satisfied: statsmodels in /usr/local/lib/python3.7/dist-packages (0.10.2)\n",
            "Collecting statsmodels\n",
            "  Downloading statsmodels-0.13.1-cp37-cp37m-manylinux_2_17_x86_64.manylinux2014_x86_64.whl (9.8 MB)\n",
            "\u001b[K     |████████████████████████████████| 9.8 MB 10.2 MB/s \n",
            "\u001b[?25hRequirement already satisfied: multitasking>=0.0.7 in /usr/local/lib/python3.7/dist-packages (from yfinance) (0.0.10)\n",
            "Requirement already satisfied: numpy>=1.15 in /usr/local/lib/python3.7/dist-packages (from yfinance) (1.19.5)\n",
            "Collecting requests>=2.26\n",
            "  Downloading requests-2.26.0-py2.py3-none-any.whl (62 kB)\n",
            "\u001b[K     |████████████████████████████████| 62 kB 464 kB/s \n",
            "\u001b[?25hRequirement already satisfied: pandas>=0.24 in /usr/local/lib/python3.7/dist-packages (from yfinance) (1.1.5)\n",
            "Collecting lxml>=4.5.1\n",
            "  Downloading lxml-4.7.1-cp37-cp37m-manylinux_2_17_x86_64.manylinux2014_x86_64.manylinux_2_24_x86_64.whl (6.4 MB)\n",
            "\u001b[K     |████████████████████████████████| 6.4 MB 37.5 MB/s \n",
            "\u001b[?25hRequirement already satisfied: pytz>=2017.2 in /usr/local/lib/python3.7/dist-packages (from pandas>=0.24->yfinance) (2018.9)\n",
            "Requirement already satisfied: python-dateutil>=2.7.3 in /usr/local/lib/python3.7/dist-packages (from pandas>=0.24->yfinance) (2.8.2)\n",
            "Requirement already satisfied: six>=1.5 in /usr/local/lib/python3.7/dist-packages (from python-dateutil>=2.7.3->pandas>=0.24->yfinance) (1.15.0)\n",
            "Requirement already satisfied: charset-normalizer~=2.0.0 in /usr/local/lib/python3.7/dist-packages (from requests>=2.26->yfinance) (2.0.8)\n",
            "Requirement already satisfied: certifi>=2017.4.17 in /usr/local/lib/python3.7/dist-packages (from requests>=2.26->yfinance) (2021.10.8)\n",
            "Requirement already satisfied: urllib3<1.27,>=1.21.1 in /usr/local/lib/python3.7/dist-packages (from requests>=2.26->yfinance) (1.24.3)\n",
            "Requirement already satisfied: idna<4,>=2.5 in /usr/local/lib/python3.7/dist-packages (from requests>=2.26->yfinance) (2.10)\n",
            "Requirement already satisfied: patsy>=0.5.2 in /usr/local/lib/python3.7/dist-packages (from statsmodels) (0.5.2)\n",
            "Requirement already satisfied: scipy>=1.3 in /usr/local/lib/python3.7/dist-packages (from statsmodels) (1.4.1)\n",
            "Installing collected packages: requests, lxml, yfinance, statsmodels\n",
            "  Attempting uninstall: requests\n",
            "    Found existing installation: requests 2.23.0\n",
            "    Uninstalling requests-2.23.0:\n",
            "      Successfully uninstalled requests-2.23.0\n",
            "  Attempting uninstall: lxml\n",
            "    Found existing installation: lxml 4.2.6\n",
            "    Uninstalling lxml-4.2.6:\n",
            "      Successfully uninstalled lxml-4.2.6\n",
            "  Attempting uninstall: statsmodels\n",
            "    Found existing installation: statsmodels 0.10.2\n",
            "    Uninstalling statsmodels-0.10.2:\n",
            "      Successfully uninstalled statsmodels-0.10.2\n",
            "\u001b[31mERROR: pip's dependency resolver does not currently take into account all the packages that are installed. This behaviour is the source of the following dependency conflicts.\n",
            "google-colab 1.0.0 requires requests~=2.23.0, but you have requests 2.26.0 which is incompatible.\n",
            "datascience 0.10.6 requires folium==0.2.1, but you have folium 0.8.3 which is incompatible.\u001b[0m\n",
            "Successfully installed lxml-4.7.1 requests-2.26.0 statsmodels-0.13.1 yfinance-0.1.68\n"
          ]
        }
      ],
      "source": [
        "pip install yfinance statsmodels --upgrade"
      ]
    },
    {
      "cell_type": "code",
      "source": [
        "import yfinance as yf\n",
        "from datetime import date\n",
        "import pandas as pd\n",
        "\n",
        "tesla= yf.download('TSLA', '2010-07-01','2021-12-31', auto_adjust=True) \n",
        "btc= yf.download( 'BTC-USD','2014-09-17','2021-12-31',auto_adjust=True)\n",
        "doge=yf.download('DOGE-USD','2020-01-01','2021-12-31',auto_adjust=True)\n",
        "usd=yf.download('DX-Y.NYB', '1971-01-04','2021-12-31', auto_adjust=True) \n",
        "yuan =yf.download('CNY=X', '2001-06-25','2021-12-31', auto_adjust=True)\n",
        "\n",
        "exon=yf.download('XOM', '2008-01-01','2021-12-31', auto_adjust=True)\n",
        "datagold=yf.download('GLD', '2008-01-01','2021-12-31', auto_adjust=True)\n",
        "datamoderna=yf.download('MRNA', '2018-12-07','2021-12-31' , auto_adjust=True)\n",
        "\n",
        "eth= yf.download('ETH-USD', '2015-01-07','2021-12-31' , auto_adjust=True)\n"
      ],
      "metadata": {
        "colab": {
          "base_uri": "https://localhost:8080/"
        },
        "id": "0sBqb2Ffdm34",
        "outputId": "f815962e-6a77-4336-ff75-c60ee1c5c946"
      },
      "execution_count": null,
      "outputs": [
        {
          "output_type": "stream",
          "name": "stdout",
          "text": [
            "[*********************100%***********************]  1 of 1 completed\n",
            "[*********************100%***********************]  1 of 1 completed\n",
            "[*********************100%***********************]  1 of 1 completed\n",
            "[*********************100%***********************]  1 of 1 completed\n",
            "[*********************100%***********************]  1 of 1 completed\n",
            "[*********************100%***********************]  1 of 1 completed\n",
            "[*********************100%***********************]  1 of 1 completed\n",
            "[*********************100%***********************]  1 of 1 completed\n",
            "[*********************100%***********************]  1 of 1 completed\n"
          ]
        }
      ]
    },
    {
      "cell_type": "code",
      "source": [
        "#SCALING\n",
        "\n",
        "from sklearn.preprocessing import StandardScaler\n",
        "data_gr= stock[['Ticker','Close','Date']].pivot_table(index='Date', columns='Ticker', values='Close').dropna()\n",
        "X = data_gr[['TSLA','BTC-USD','DOGE-USD','DX-Y.NYB','CNY=X','XOM','GLD','MRNA','ETH-USD']].copy()\n",
        "scaleX = StandardScaler().fit(X)\n",
        "data_std = pd.DataFrame(scaleX.transform(X), index=X.index, columns=X.columns)\n",
        "#data_std['BTC-USD'] = data_gr.BTC-USD.copy()\n",
        "ax = data_std.plot(secondary_y=['BTC-USD'], figsize=(15,10))\n",
        "ax.set_ylabel('Time scale')\n",
        "ax.right_ax.set_ylabel('Crypto scale');"
      ],
      "metadata": {
        "colab": {
          "base_uri": "https://localhost:8080/",
          "height": 394
        },
        "id": "pMdOJE0Ld2Nk",
        "outputId": "a2de4d83-6536-4d1c-f13d-1b5c6531e2ad"
      },
      "execution_count": null,
      "outputs": [
        {
          "output_type": "error",
          "ename": "KeyError",
          "evalue": "ignored",
          "traceback": [
            "\u001b[0;31m---------------------------------------------------------------------------\u001b[0m",
            "\u001b[0;31mKeyError\u001b[0m                                  Traceback (most recent call last)",
            "\u001b[0;32m<ipython-input-15-ff62ecac429b>\u001b[0m in \u001b[0;36m<module>\u001b[0;34m()\u001b[0m\n\u001b[1;32m      3\u001b[0m \u001b[0;32mfrom\u001b[0m \u001b[0msklearn\u001b[0m\u001b[0;34m.\u001b[0m\u001b[0mpreprocessing\u001b[0m \u001b[0;32mimport\u001b[0m \u001b[0mStandardScaler\u001b[0m\u001b[0;34m\u001b[0m\u001b[0;34m\u001b[0m\u001b[0m\n\u001b[1;32m      4\u001b[0m \u001b[0mdata_gr\u001b[0m\u001b[0;34m=\u001b[0m \u001b[0mstock\u001b[0m\u001b[0;34m[\u001b[0m\u001b[0;34m[\u001b[0m\u001b[0;34m'Ticker'\u001b[0m\u001b[0;34m,\u001b[0m\u001b[0;34m'Close'\u001b[0m\u001b[0;34m,\u001b[0m\u001b[0;34m'Date'\u001b[0m\u001b[0;34m]\u001b[0m\u001b[0;34m]\u001b[0m\u001b[0;34m.\u001b[0m\u001b[0mpivot_table\u001b[0m\u001b[0;34m(\u001b[0m\u001b[0mindex\u001b[0m\u001b[0;34m=\u001b[0m\u001b[0;34m'Date'\u001b[0m\u001b[0;34m,\u001b[0m \u001b[0mcolumns\u001b[0m\u001b[0;34m=\u001b[0m\u001b[0;34m'Ticker'\u001b[0m\u001b[0;34m,\u001b[0m \u001b[0mvalues\u001b[0m\u001b[0;34m=\u001b[0m\u001b[0;34m'Close'\u001b[0m\u001b[0;34m)\u001b[0m\u001b[0;34m.\u001b[0m\u001b[0mdropna\u001b[0m\u001b[0;34m(\u001b[0m\u001b[0;34m)\u001b[0m\u001b[0;34m\u001b[0m\u001b[0;34m\u001b[0m\u001b[0m\n\u001b[0;32m----> 5\u001b[0;31m \u001b[0mX\u001b[0m \u001b[0;34m=\u001b[0m \u001b[0mdata_gr\u001b[0m\u001b[0;34m[\u001b[0m\u001b[0;34m[\u001b[0m\u001b[0;34m'TSLA'\u001b[0m\u001b[0;34m,\u001b[0m\u001b[0;34m'BTC-USD'\u001b[0m\u001b[0;34m,\u001b[0m\u001b[0;34m'DOGE-USD'\u001b[0m\u001b[0;34m,\u001b[0m\u001b[0;34m'DX-Y.NYB'\u001b[0m\u001b[0;34m,\u001b[0m\u001b[0;34m'CNY=X'\u001b[0m\u001b[0;34m,\u001b[0m\u001b[0;34m'XOM'\u001b[0m\u001b[0;34m,\u001b[0m\u001b[0;34m'GLD'\u001b[0m\u001b[0;34m,\u001b[0m\u001b[0;34m'MRNA'\u001b[0m\u001b[0;34m,\u001b[0m\u001b[0;34m'ETH-USD'\u001b[0m\u001b[0;34m]\u001b[0m\u001b[0;34m]\u001b[0m\u001b[0;34m.\u001b[0m\u001b[0mcopy\u001b[0m\u001b[0;34m(\u001b[0m\u001b[0;34m)\u001b[0m\u001b[0;34m\u001b[0m\u001b[0;34m\u001b[0m\u001b[0m\n\u001b[0m\u001b[1;32m      6\u001b[0m \u001b[0mscaleX\u001b[0m \u001b[0;34m=\u001b[0m \u001b[0mStandardScaler\u001b[0m\u001b[0;34m(\u001b[0m\u001b[0;34m)\u001b[0m\u001b[0;34m.\u001b[0m\u001b[0mfit\u001b[0m\u001b[0;34m(\u001b[0m\u001b[0mX\u001b[0m\u001b[0;34m)\u001b[0m\u001b[0;34m\u001b[0m\u001b[0;34m\u001b[0m\u001b[0m\n\u001b[1;32m      7\u001b[0m \u001b[0mdata_std\u001b[0m \u001b[0;34m=\u001b[0m \u001b[0mpd\u001b[0m\u001b[0;34m.\u001b[0m\u001b[0mDataFrame\u001b[0m\u001b[0;34m(\u001b[0m\u001b[0mscaleX\u001b[0m\u001b[0;34m.\u001b[0m\u001b[0mtransform\u001b[0m\u001b[0;34m(\u001b[0m\u001b[0mX\u001b[0m\u001b[0;34m)\u001b[0m\u001b[0;34m,\u001b[0m \u001b[0mindex\u001b[0m\u001b[0;34m=\u001b[0m\u001b[0mX\u001b[0m\u001b[0;34m.\u001b[0m\u001b[0mindex\u001b[0m\u001b[0;34m,\u001b[0m \u001b[0mcolumns\u001b[0m\u001b[0;34m=\u001b[0m\u001b[0mX\u001b[0m\u001b[0;34m.\u001b[0m\u001b[0mcolumns\u001b[0m\u001b[0;34m)\u001b[0m\u001b[0;34m\u001b[0m\u001b[0;34m\u001b[0m\u001b[0m\n",
            "\u001b[0;32m/usr/local/lib/python3.7/dist-packages/pandas/core/frame.py\u001b[0m in \u001b[0;36m__getitem__\u001b[0;34m(self, key)\u001b[0m\n\u001b[1;32m   2910\u001b[0m             \u001b[0;32mif\u001b[0m \u001b[0mis_iterator\u001b[0m\u001b[0;34m(\u001b[0m\u001b[0mkey\u001b[0m\u001b[0;34m)\u001b[0m\u001b[0;34m:\u001b[0m\u001b[0;34m\u001b[0m\u001b[0;34m\u001b[0m\u001b[0m\n\u001b[1;32m   2911\u001b[0m                 \u001b[0mkey\u001b[0m \u001b[0;34m=\u001b[0m \u001b[0mlist\u001b[0m\u001b[0;34m(\u001b[0m\u001b[0mkey\u001b[0m\u001b[0;34m)\u001b[0m\u001b[0;34m\u001b[0m\u001b[0;34m\u001b[0m\u001b[0m\n\u001b[0;32m-> 2912\u001b[0;31m             \u001b[0mindexer\u001b[0m \u001b[0;34m=\u001b[0m \u001b[0mself\u001b[0m\u001b[0;34m.\u001b[0m\u001b[0mloc\u001b[0m\u001b[0;34m.\u001b[0m\u001b[0m_get_listlike_indexer\u001b[0m\u001b[0;34m(\u001b[0m\u001b[0mkey\u001b[0m\u001b[0;34m,\u001b[0m \u001b[0maxis\u001b[0m\u001b[0;34m=\u001b[0m\u001b[0;36m1\u001b[0m\u001b[0;34m,\u001b[0m \u001b[0mraise_missing\u001b[0m\u001b[0;34m=\u001b[0m\u001b[0;32mTrue\u001b[0m\u001b[0;34m)\u001b[0m\u001b[0;34m[\u001b[0m\u001b[0;36m1\u001b[0m\u001b[0;34m]\u001b[0m\u001b[0;34m\u001b[0m\u001b[0;34m\u001b[0m\u001b[0m\n\u001b[0m\u001b[1;32m   2913\u001b[0m \u001b[0;34m\u001b[0m\u001b[0m\n\u001b[1;32m   2914\u001b[0m         \u001b[0;31m# take() does not accept boolean indexers\u001b[0m\u001b[0;34m\u001b[0m\u001b[0;34m\u001b[0m\u001b[0;34m\u001b[0m\u001b[0m\n",
            "\u001b[0;32m/usr/local/lib/python3.7/dist-packages/pandas/core/indexing.py\u001b[0m in \u001b[0;36m_get_listlike_indexer\u001b[0;34m(self, key, axis, raise_missing)\u001b[0m\n\u001b[1;32m   1252\u001b[0m             \u001b[0mkeyarr\u001b[0m\u001b[0;34m,\u001b[0m \u001b[0mindexer\u001b[0m\u001b[0;34m,\u001b[0m \u001b[0mnew_indexer\u001b[0m \u001b[0;34m=\u001b[0m \u001b[0max\u001b[0m\u001b[0;34m.\u001b[0m\u001b[0m_reindex_non_unique\u001b[0m\u001b[0;34m(\u001b[0m\u001b[0mkeyarr\u001b[0m\u001b[0;34m)\u001b[0m\u001b[0;34m\u001b[0m\u001b[0;34m\u001b[0m\u001b[0m\n\u001b[1;32m   1253\u001b[0m \u001b[0;34m\u001b[0m\u001b[0m\n\u001b[0;32m-> 1254\u001b[0;31m         \u001b[0mself\u001b[0m\u001b[0;34m.\u001b[0m\u001b[0m_validate_read_indexer\u001b[0m\u001b[0;34m(\u001b[0m\u001b[0mkeyarr\u001b[0m\u001b[0;34m,\u001b[0m \u001b[0mindexer\u001b[0m\u001b[0;34m,\u001b[0m \u001b[0maxis\u001b[0m\u001b[0;34m,\u001b[0m \u001b[0mraise_missing\u001b[0m\u001b[0;34m=\u001b[0m\u001b[0mraise_missing\u001b[0m\u001b[0;34m)\u001b[0m\u001b[0;34m\u001b[0m\u001b[0;34m\u001b[0m\u001b[0m\n\u001b[0m\u001b[1;32m   1255\u001b[0m         \u001b[0;32mreturn\u001b[0m \u001b[0mkeyarr\u001b[0m\u001b[0;34m,\u001b[0m \u001b[0mindexer\u001b[0m\u001b[0;34m\u001b[0m\u001b[0;34m\u001b[0m\u001b[0m\n\u001b[1;32m   1256\u001b[0m \u001b[0;34m\u001b[0m\u001b[0m\n",
            "\u001b[0;32m/usr/local/lib/python3.7/dist-packages/pandas/core/indexing.py\u001b[0m in \u001b[0;36m_validate_read_indexer\u001b[0;34m(self, key, indexer, axis, raise_missing)\u001b[0m\n\u001b[1;32m   1302\u001b[0m             \u001b[0;32mif\u001b[0m \u001b[0mraise_missing\u001b[0m\u001b[0;34m:\u001b[0m\u001b[0;34m\u001b[0m\u001b[0;34m\u001b[0m\u001b[0m\n\u001b[1;32m   1303\u001b[0m                 \u001b[0mnot_found\u001b[0m \u001b[0;34m=\u001b[0m \u001b[0mlist\u001b[0m\u001b[0;34m(\u001b[0m\u001b[0mset\u001b[0m\u001b[0;34m(\u001b[0m\u001b[0mkey\u001b[0m\u001b[0;34m)\u001b[0m \u001b[0;34m-\u001b[0m \u001b[0mset\u001b[0m\u001b[0;34m(\u001b[0m\u001b[0max\u001b[0m\u001b[0;34m)\u001b[0m\u001b[0;34m)\u001b[0m\u001b[0;34m\u001b[0m\u001b[0;34m\u001b[0m\u001b[0m\n\u001b[0;32m-> 1304\u001b[0;31m                 \u001b[0;32mraise\u001b[0m \u001b[0mKeyError\u001b[0m\u001b[0;34m(\u001b[0m\u001b[0;34mf\"{not_found} not in index\"\u001b[0m\u001b[0;34m)\u001b[0m\u001b[0;34m\u001b[0m\u001b[0;34m\u001b[0m\u001b[0m\n\u001b[0m\u001b[1;32m   1305\u001b[0m \u001b[0;34m\u001b[0m\u001b[0m\n\u001b[1;32m   1306\u001b[0m             \u001b[0;31m# we skip the warning on Categorical\u001b[0m\u001b[0;34m\u001b[0m\u001b[0;34m\u001b[0m\u001b[0;34m\u001b[0m\u001b[0m\n",
            "\u001b[0;31mKeyError\u001b[0m: \"['TSLA', 'MRNA', 'ETH-USD', 'GLD', 'XOM'] not in index\""
          ]
        }
      ]
    },
    {
      "cell_type": "code",
      "source": [
        "# better solution\n",
        "for d in [btc,doge,usd,yuan]:\n",
        "  if \"Date\" not in d.columns:\n",
        "    d.reset_index(inplace=True)\n",
        "\n",
        "#Tickers for stocks\n",
        "tesla['Ticker']='TSLA'\n",
        "btc['Ticker']='BTC-USD'\n",
        "doge['Ticker']='DOGE-USD'\n",
        "usd[\"Ticker\"]='DX-Y.NYB'\n",
        "yuan['Ticker']='CNY=X'\n",
        "datagold['Ticker']='GLD'\n",
        "exon['Ticker']='XOM'\n",
        "datamoderna['Ticker']='MRNA'\n",
        "eth['Ticker']='ETH-USD'\n"
      ],
      "metadata": {
        "id": "0ssE5X9ZdwC9"
      },
      "execution_count": null,
      "outputs": []
    },
    {
      "cell_type": "code",
      "source": [
        "stock = pd.concat([tesla, btc, doge, usd, yuan, exon, datagold, datamoderna, eth], axis=0)\n",
        "#data_gr['Date'] = pd.to_datetime(data_gr['Date'])\n",
        "stock.set_index('Date')\n",
        "#df.set_index('month')\n",
        "stock['Date']=pd.to_datetime(stock['Date'])\n",
        "stock.head(10)"
      ],
      "metadata": {
        "colab": {
          "base_uri": "https://localhost:8080/",
          "height": 363
        },
        "id": "4QisEB7TdyI6",
        "outputId": "71cec7b8-d7ee-4384-a81b-ff8b64aeb66e"
      },
      "execution_count": null,
      "outputs": [
        {
          "output_type": "execute_result",
          "data": {
            "text/html": [
              "\n",
              "  <div id=\"df-50fac3a8-ba0c-436a-921b-93ca7807c1b8\">\n",
              "    <div class=\"colab-df-container\">\n",
              "      <div>\n",
              "<style scoped>\n",
              "    .dataframe tbody tr th:only-of-type {\n",
              "        vertical-align: middle;\n",
              "    }\n",
              "\n",
              "    .dataframe tbody tr th {\n",
              "        vertical-align: top;\n",
              "    }\n",
              "\n",
              "    .dataframe thead th {\n",
              "        text-align: right;\n",
              "    }\n",
              "</style>\n",
              "<table border=\"1\" class=\"dataframe\">\n",
              "  <thead>\n",
              "    <tr style=\"text-align: right;\">\n",
              "      <th></th>\n",
              "      <th>Open</th>\n",
              "      <th>High</th>\n",
              "      <th>Low</th>\n",
              "      <th>Close</th>\n",
              "      <th>Volume</th>\n",
              "      <th>Ticker</th>\n",
              "      <th>Date</th>\n",
              "    </tr>\n",
              "  </thead>\n",
              "  <tbody>\n",
              "    <tr>\n",
              "      <th>2010-07-01 00:00:00</th>\n",
              "      <td>5.000</td>\n",
              "      <td>5.184</td>\n",
              "      <td>4.054</td>\n",
              "      <td>4.392</td>\n",
              "      <td>41094000</td>\n",
              "      <td>TSLA</td>\n",
              "      <td>NaT</td>\n",
              "    </tr>\n",
              "    <tr>\n",
              "      <th>2010-07-02 00:00:00</th>\n",
              "      <td>4.600</td>\n",
              "      <td>4.620</td>\n",
              "      <td>3.742</td>\n",
              "      <td>3.840</td>\n",
              "      <td>25699000</td>\n",
              "      <td>TSLA</td>\n",
              "      <td>NaT</td>\n",
              "    </tr>\n",
              "    <tr>\n",
              "      <th>2010-07-06 00:00:00</th>\n",
              "      <td>4.000</td>\n",
              "      <td>4.000</td>\n",
              "      <td>3.166</td>\n",
              "      <td>3.222</td>\n",
              "      <td>34334500</td>\n",
              "      <td>TSLA</td>\n",
              "      <td>NaT</td>\n",
              "    </tr>\n",
              "    <tr>\n",
              "      <th>2010-07-07 00:00:00</th>\n",
              "      <td>3.280</td>\n",
              "      <td>3.326</td>\n",
              "      <td>2.996</td>\n",
              "      <td>3.160</td>\n",
              "      <td>34608500</td>\n",
              "      <td>TSLA</td>\n",
              "      <td>NaT</td>\n",
              "    </tr>\n",
              "    <tr>\n",
              "      <th>2010-07-08 00:00:00</th>\n",
              "      <td>3.228</td>\n",
              "      <td>3.504</td>\n",
              "      <td>3.114</td>\n",
              "      <td>3.492</td>\n",
              "      <td>38557000</td>\n",
              "      <td>TSLA</td>\n",
              "      <td>NaT</td>\n",
              "    </tr>\n",
              "    <tr>\n",
              "      <th>2010-07-09 00:00:00</th>\n",
              "      <td>3.516</td>\n",
              "      <td>3.580</td>\n",
              "      <td>3.310</td>\n",
              "      <td>3.480</td>\n",
              "      <td>20253000</td>\n",
              "      <td>TSLA</td>\n",
              "      <td>NaT</td>\n",
              "    </tr>\n",
              "    <tr>\n",
              "      <th>2010-07-12 00:00:00</th>\n",
              "      <td>3.590</td>\n",
              "      <td>3.614</td>\n",
              "      <td>3.400</td>\n",
              "      <td>3.410</td>\n",
              "      <td>11012500</td>\n",
              "      <td>TSLA</td>\n",
              "      <td>NaT</td>\n",
              "    </tr>\n",
              "    <tr>\n",
              "      <th>2010-07-13 00:00:00</th>\n",
              "      <td>3.478</td>\n",
              "      <td>3.728</td>\n",
              "      <td>3.380</td>\n",
              "      <td>3.628</td>\n",
              "      <td>13400500</td>\n",
              "      <td>TSLA</td>\n",
              "      <td>NaT</td>\n",
              "    </tr>\n",
              "    <tr>\n",
              "      <th>2010-07-14 00:00:00</th>\n",
              "      <td>3.588</td>\n",
              "      <td>4.030</td>\n",
              "      <td>3.552</td>\n",
              "      <td>3.968</td>\n",
              "      <td>20976000</td>\n",
              "      <td>TSLA</td>\n",
              "      <td>NaT</td>\n",
              "    </tr>\n",
              "    <tr>\n",
              "      <th>2010-07-15 00:00:00</th>\n",
              "      <td>3.988</td>\n",
              "      <td>4.300</td>\n",
              "      <td>3.800</td>\n",
              "      <td>3.978</td>\n",
              "      <td>18699000</td>\n",
              "      <td>TSLA</td>\n",
              "      <td>NaT</td>\n",
              "    </tr>\n",
              "  </tbody>\n",
              "</table>\n",
              "</div>\n",
              "      <button class=\"colab-df-convert\" onclick=\"convertToInteractive('df-50fac3a8-ba0c-436a-921b-93ca7807c1b8')\"\n",
              "              title=\"Convert this dataframe to an interactive table.\"\n",
              "              style=\"display:none;\">\n",
              "        \n",
              "  <svg xmlns=\"http://www.w3.org/2000/svg\" height=\"24px\"viewBox=\"0 0 24 24\"\n",
              "       width=\"24px\">\n",
              "    <path d=\"M0 0h24v24H0V0z\" fill=\"none\"/>\n",
              "    <path d=\"M18.56 5.44l.94 2.06.94-2.06 2.06-.94-2.06-.94-.94-2.06-.94 2.06-2.06.94zm-11 1L8.5 8.5l.94-2.06 2.06-.94-2.06-.94L8.5 2.5l-.94 2.06-2.06.94zm10 10l.94 2.06.94-2.06 2.06-.94-2.06-.94-.94-2.06-.94 2.06-2.06.94z\"/><path d=\"M17.41 7.96l-1.37-1.37c-.4-.4-.92-.59-1.43-.59-.52 0-1.04.2-1.43.59L10.3 9.45l-7.72 7.72c-.78.78-.78 2.05 0 2.83L4 21.41c.39.39.9.59 1.41.59.51 0 1.02-.2 1.41-.59l7.78-7.78 2.81-2.81c.8-.78.8-2.07 0-2.86zM5.41 20L4 18.59l7.72-7.72 1.47 1.35L5.41 20z\"/>\n",
              "  </svg>\n",
              "      </button>\n",
              "      \n",
              "  <style>\n",
              "    .colab-df-container {\n",
              "      display:flex;\n",
              "      flex-wrap:wrap;\n",
              "      gap: 12px;\n",
              "    }\n",
              "\n",
              "    .colab-df-convert {\n",
              "      background-color: #E8F0FE;\n",
              "      border: none;\n",
              "      border-radius: 50%;\n",
              "      cursor: pointer;\n",
              "      display: none;\n",
              "      fill: #1967D2;\n",
              "      height: 32px;\n",
              "      padding: 0 0 0 0;\n",
              "      width: 32px;\n",
              "    }\n",
              "\n",
              "    .colab-df-convert:hover {\n",
              "      background-color: #E2EBFA;\n",
              "      box-shadow: 0px 1px 2px rgba(60, 64, 67, 0.3), 0px 1px 3px 1px rgba(60, 64, 67, 0.15);\n",
              "      fill: #174EA6;\n",
              "    }\n",
              "\n",
              "    [theme=dark] .colab-df-convert {\n",
              "      background-color: #3B4455;\n",
              "      fill: #D2E3FC;\n",
              "    }\n",
              "\n",
              "    [theme=dark] .colab-df-convert:hover {\n",
              "      background-color: #434B5C;\n",
              "      box-shadow: 0px 1px 3px 1px rgba(0, 0, 0, 0.15);\n",
              "      filter: drop-shadow(0px 1px 2px rgba(0, 0, 0, 0.3));\n",
              "      fill: #FFFFFF;\n",
              "    }\n",
              "  </style>\n",
              "\n",
              "      <script>\n",
              "        const buttonEl =\n",
              "          document.querySelector('#df-50fac3a8-ba0c-436a-921b-93ca7807c1b8 button.colab-df-convert');\n",
              "        buttonEl.style.display =\n",
              "          google.colab.kernel.accessAllowed ? 'block' : 'none';\n",
              "\n",
              "        async function convertToInteractive(key) {\n",
              "          const element = document.querySelector('#df-50fac3a8-ba0c-436a-921b-93ca7807c1b8');\n",
              "          const dataTable =\n",
              "            await google.colab.kernel.invokeFunction('convertToInteractive',\n",
              "                                                     [key], {});\n",
              "          if (!dataTable) return;\n",
              "\n",
              "          const docLinkHtml = 'Like what you see? Visit the ' +\n",
              "            '<a target=\"_blank\" href=https://colab.research.google.com/notebooks/data_table.ipynb>data table notebook</a>'\n",
              "            + ' to learn more about interactive tables.';\n",
              "          element.innerHTML = '';\n",
              "          dataTable['output_type'] = 'display_data';\n",
              "          await google.colab.output.renderOutput(dataTable, element);\n",
              "          const docLink = document.createElement('div');\n",
              "          docLink.innerHTML = docLinkHtml;\n",
              "          element.appendChild(docLink);\n",
              "        }\n",
              "      </script>\n",
              "    </div>\n",
              "  </div>\n",
              "  "
            ],
            "text/plain": [
              "                      Open   High    Low  Close    Volume Ticker Date\n",
              "2010-07-01 00:00:00  5.000  5.184  4.054  4.392  41094000   TSLA  NaT\n",
              "2010-07-02 00:00:00  4.600  4.620  3.742  3.840  25699000   TSLA  NaT\n",
              "2010-07-06 00:00:00  4.000  4.000  3.166  3.222  34334500   TSLA  NaT\n",
              "2010-07-07 00:00:00  3.280  3.326  2.996  3.160  34608500   TSLA  NaT\n",
              "2010-07-08 00:00:00  3.228  3.504  3.114  3.492  38557000   TSLA  NaT\n",
              "2010-07-09 00:00:00  3.516  3.580  3.310  3.480  20253000   TSLA  NaT\n",
              "2010-07-12 00:00:00  3.590  3.614  3.400  3.410  11012500   TSLA  NaT\n",
              "2010-07-13 00:00:00  3.478  3.728  3.380  3.628  13400500   TSLA  NaT\n",
              "2010-07-14 00:00:00  3.588  4.030  3.552  3.968  20976000   TSLA  NaT\n",
              "2010-07-15 00:00:00  3.988  4.300  3.800  3.978  18699000   TSLA  NaT"
            ]
          },
          "metadata": {},
          "execution_count": 14
        }
      ]
    },
    {
      "cell_type": "code",
      "source": [
        "#OLS-BTC\n",
        "# set the forcast scope \n",
        "n =180\n",
        "\n",
        "tesla= yf.download('TSLA', '2010-07-01','2021-12-31', auto_adjust=True) \n",
        "btc= yf.download(  'BTC-USD','2014-09-17','2021-12-31',auto_adjust=True)\n",
        "doge=yf.download('DOGE-USD','2020-01-01','2021-12-31',auto_adjust=True)\n",
        "\n",
        "exon=yf.download('XOM', '2008-01-01','2021-12-31', auto_adjust=True)\n",
        "datagold=yf.download('GLD', '2008-01-01','2021-12-31', auto_adjust=True)\n",
        "datamoderna=yf.download('MRNA', '2018-12-07','2021-12-31' , auto_adjust=True)\n",
        "eth= yf.download('ETH-USD', '2015-01-07','2021-12-31' , auto_adjust=True)\n",
        "\n",
        "# better solution\n",
        "for d in [btc,doge,exon,eth,tesla,datamoderna,datagold]:\n",
        "  if \"Date\" not in d.columns:\n",
        "    d.reset_index(inplace=True)\n",
        "\n",
        "#Tickers for stocks\n",
        "tesla['Ticker']='TSLA'\n",
        "btc['Ticker']='BTC-USD'\n",
        "doge['Ticker']='DOGE-USD'\n",
        "datagold['Ticker']='GLD'\n",
        "exon['Ticker']='XOM'\n",
        "datamoderna['Ticker']='MRNA'\n",
        "eth['Ticker']='ETH-USD'"
      ],
      "metadata": {
        "id": "KP7OdtFx1U9b"
      },
      "execution_count": null,
      "outputs": []
    },
    {
      "cell_type": "code",
      "source": [
        "# create new dataset with emty rows for futur forecasts\n",
        "btc_ols = pd.concat([btc, doge,exon,datamoderna,tesla,datagold,eth], axis=0)\n",
        "#stock['Date']= pd.to_datetime(stock['Date'])\n",
        "btc_ols.set_index('Date')\n",
        "btc_ols.set_index('Ticker')\n",
        "\n",
        "#SCALING\n",
        "from sklearn.preprocessing import StandardScaler\n",
        "data_gr1= btc_ols[['Ticker','Close','Date']].pivot_table(index='Date', columns='Ticker', values='Close').dropna()\n",
        "X = data_gr1[['BTC-USD', 'DOGE-USD','MRNA','TSLA','GLD','XOM','ETH-USD']].copy()\n",
        "scaleX = StandardScaler().fit(X)\n",
        "data_std = pd.DataFrame(scaleX.transform(X), index=X.index, columns=X.columns)\n",
        "\n",
        "data_fcst = data_std.copy()\n",
        "data_fcst = data_fcst.append(pd.DataFrame(index = pd.date_range(start='2021-12-01', periods=n, freq='D'))) #making lags \n",
        "\n",
        "data_fcst = data_fcst.assign(**{\n",
        "    f'{col}_lag': data_fcst[col].shift(n)\n",
        "    for col in [\"BTC-USD\",\"DOGE-USD\",\"MRNA\",\"TSLA\",'XOM','ETH-USD','GLD']})\n",
        "data_fcst = data_fcst.drop(['DOGE-USD','MRNA','GLD','ETH-USD','XOM','TSLA'], axis=1).dropna(subset=[ 'BTC-USD_lag','TSLA_lag','DOGE-USD_lag','MRNA_lag','GLD_lag','XOM_lag','ETH-USD_lag'])"
      ],
      "metadata": {
        "id": "rDgJW4141V3s"
      },
      "execution_count": null,
      "outputs": []
    },
    {
      "cell_type": "code",
      "source": [
        "from statsmodels.formula.api import ols\n",
        "\n",
        "modFRCST = ols(formula='BTC-USD ~ BTC-USD_lag + TSLA_lag + MRNA_lag + XOM_lag+ GLD_lag + ETH-USD_lag + DOGE-USD_lag',\n",
        "               data=data_fcst)\n",
        "\n",
        "resFRCST = modFRCST.fit()\n",
        "\n",
        "#we print the result\n",
        "print(resFRCST.summary())"
      ],
      "metadata": {
        "id": "X9FbwTCP1Zi4"
      },
      "execution_count": null,
      "outputs": []
    },
    {
      "cell_type": "code",
      "source": [
        "# predict out of sample\n",
        "xTrain = data_fcst.loc[data_fcst.index < pd.to_datetime(date.today()),['BOND10Yr_lag', 'VIX_lag', 'SP500_lag']].copy()\n",
        "yTrain = data_fcst.loc[data_fcst.index < pd.to_datetime(date.today()),['GOLD']].copy()\n",
        "ypred = resFRCST.predict(xTrain)  \n",
        "fig, ax = plt.subplots(figsize=(15,10))\n",
        "ax.plot(xTrain.index, yTrain, \".\", label=\"Original data\")\n",
        "ax.plot(xTrain.index, ypred, \"-\", label=\"OLS prediction\")\n",
        "ax.legend(loc=\"best\")\n",
        "#ax.set_xlim(xmin=pd.to_datetime('2021-06-01'),xmax=pd.to_datetime('2021-12-20'));"
      ],
      "metadata": {
        "id": "B0At4ObT1b8K"
      },
      "execution_count": null,
      "outputs": []
    },
    {
      "cell_type": "code",
      "source": [
        "# predict out of sample\n",
        "data_y = data_fcst[data_fcst.index >= pd.to_datetime(date.today()- timedelta(days=1))]\n",
        "data_y['GOLD_OLS'] = resFRCST.predict(data_y)  \n",
        "ax = data_fcst[data_fcst.index > pd.to_datetime('10/01/2021')].plot(y=['GOLD'],figsize=(15,10))\n",
        "data_y.plot(y=['GOLD_OLS'], ax=ax, alpha=.7)\n",
        "\n",
        "pred = resFRCST.get_prediction(data_y)\n",
        "iv_l = pred.summary_frame()[\"obs_ci_lower\"]\n",
        "iv_u = pred.summary_frame()[\"obs_ci_upper\"]\n",
        "\n",
        "ax.fill_between(data_y.index,\n",
        "                iv_l,\n",
        "                iv_u, color='yellow', alpha=0.2,\n",
        "                label='95% Confidence Interval')\n",
        "ax.legend(loc='upper left');"
      ],
      "metadata": {
        "id": "mWlNRv1o1er2"
      },
      "execution_count": null,
      "outputs": []
    },
    {
      "cell_type": "markdown",
      "source": [
        "RF"
      ],
      "metadata": {
        "id": "CGhvnR5F1iur"
      }
    },
    {
      "cell_type": "code",
      "source": [
        "from sklearn.ensemble import RandomForestRegressor\n",
        "import numpy as np\n",
        "\n",
        "# define the model\n",
        "model = RandomForestRegressor(n_estimators=1000, random_state=42)\n",
        "# fit the model on the whole dataset\n",
        "model.fit(xTrain, yTrain)\n",
        "yPred = model.predict(xTrain)\n",
        "\n",
        "# check accuracy in training data\n",
        "from sklearn.metrics import r2_score\n",
        "print('R2: {}'.format(r2_score(yTrain, yPred)))\n",
        "\n",
        "from sklearn.metrics import mean_squared_error\n",
        "mse = mean_squared_error(yTrain,yPred)\n",
        "rootmeansq = np.sqrt(mse)\n",
        "print('mse: {}'.format(mse))\n",
        "print('rmse: {}'.format(rootmeansq))"
      ],
      "metadata": {
        "id": "kdrAICD51k1D"
      },
      "execution_count": null,
      "outputs": []
    },
    {
      "cell_type": "code",
      "source": [
        "# check accuracy graphically\n",
        "fig, ax = plt.subplots(figsize=(15,10))\n",
        "ax.plot(xTrain.index, yTrain, \".\", label=\"Original data\")\n",
        "ax.plot(xTrain.index, ypred, \"-\", label=\"OLS prediction\")\n",
        "ax.plot(xTrain.index, yPred, \"--\", label=\"Forest prediction\")\n",
        "ax.legend(loc=\"best\")\n",
        "ax.set_xlim(xmin=pd.to_datetime('2021-10-01'),xmax=pd.to_datetime('2021-12-20')); # <-- closer look"
      ],
      "metadata": {
        "id": "D_AOaxt61m3D"
      },
      "execution_count": null,
      "outputs": []
    },
    {
      "cell_type": "code",
      "source": [
        "pip install forestci\n",
        "# make prediction\n",
        "import forestci as fci\n",
        "xTest = data_y[['BOND10Yr_lag', 'VIX_lag', 'SP500_lag']].copy()\n",
        "yTest = data_y['GOLD'].copy()\n",
        "data_y['GOLD_forest'] = model.predict(xTest);\n",
        "ci = fci.random_forest_error(model, xTrain, xTest);"
      ],
      "metadata": {
        "id": "x6iQiy6q1ufd"
      },
      "execution_count": null,
      "outputs": []
    },
    {
      "cell_type": "code",
      "source": [
        "# predict out of sample \n",
        "ax = data_fcst[data_fcst.index > pd.to_datetime('10/01/2021')].plot(y=['GOLD'],figsize=(15,10))\n",
        "data_y.plot(y=['GOLD_forest'], ax=ax, alpha=.7)\n",
        "ax.fill_between(data_y.index,\n",
        "                data_y['GOLD_forest'] - np.sqrt(ci),\n",
        "                data_y['GOLD_forest'] + np.sqrt(ci), \n",
        "                color='yellow', alpha=0.3,\n",
        "                label='95% CI Forest')\n",
        "\n",
        "data_y.plot(y=['GOLD_OLS'], ax=ax, alpha=.7)\n",
        "\n",
        "pred = resFRCST.get_prediction(data_y)\n",
        "iv_l = pred.summary_frame()[\"obs_ci_lower\"]\n",
        "iv_u = pred.summary_frame()[\"obs_ci_upper\"]\n",
        "\n",
        "ax.fill_between(data_y.index,\n",
        "                iv_l,\n",
        "                iv_u, color='green', alpha=0.1,\n",
        "                label='95% CI OLS', hatch='///')\n",
        "ax.legend(loc='upper left');"
      ],
      "metadata": {
        "id": "lWiBKOhU1u-i"
      },
      "execution_count": null,
      "outputs": []
    },
    {
      "cell_type": "markdown",
      "source": [
        "#OLS Model"
      ],
      "metadata": {
        "id": "Iyii4LUTvxVB"
      }
    },
    {
      "cell_type": "code",
      "source": [
        "# set the forcast scope \n",
        "n = 30\n",
        "# create new dataset with emty rows for futur forcasts\n",
        "data_fcst = data_std.copy()\n",
        "data_fcst = data_fcst.append(pd.DataFrame(index = pd.date_range(start=date.today(), periods=n, freq='D')))\n",
        "\n",
        "data_fcst = data_fcst.assign(**{\n",
        "    f'{col}_lag': data_fcst[col].shift(n)\n",
        "    for col in ['BOND10Yr', 'VIX', 'SP500']})\n",
        "data_fcst = data_fcst.drop(['BOND10Yr', 'VIX', 'SP500', 'Month'], axis=1).dropna(subset=['BOND10Yr_lag', 'VIX_lag', 'SP500_lag'])"
      ],
      "metadata": {
        "id": "zKUP2nYiv4Lk"
      },
      "execution_count": null,
      "outputs": []
    },
    {
      "cell_type": "code",
      "source": [
        "from statsmodels.formula.api import ols\n",
        "\n",
        "modFRCST = ols(formula='DOGE-USD ~ DOGE-USD_lag + VIX_lag + SP500_lag', # + Month + Year\n",
        "          data=data_fcst)\n",
        "\n",
        "resFRCST = modFRCST.fit()\n",
        "\n",
        "#we print the result\n",
        "print(resFRCST.summary())"
      ],
      "metadata": {
        "id": "Si6Z1Krhv6ME"
      },
      "execution_count": null,
      "outputs": []
    },
    {
      "cell_type": "markdown",
      "source": [
        "#OLS Model-DOGECOIN\n"
      ],
      "metadata": {
        "id": "3cpPH6uFv_eg"
      }
    },
    {
      "cell_type": "code",
      "source": [
        "# set the forcast scope \n",
        "n =90\n",
        "\n",
        "tesla= yf.download('TSLA', '2010-07-01','2021-12-31', auto_adjust=True) \n",
        "doge=yf.download('DOGE-USD','2020-01-01','2021-12-31',auto_adjust=True)\n",
        "exon=yf.download('XOM', '2008-01-01','2021-12-31', auto_adjust=True)\n",
        "#datagold=yf.download('GLD', '2008-01-01','2021-12-31', auto_adjust=True)\n",
        "datamoderna=yf.download('MRNA', '2018-12-07','2021-12-31' , auto_adjust=True)\n",
        "#eth= yf.download('ETH-USD', '2015-01-07','2021-12-31' , auto_adjust=True)\n",
        "\n",
        "# better solution\n",
        "for d in [doge,exon,tesla,datamoderna]:\n",
        "  if \"Date\" not in d.columns:\n",
        "    d.reset_index(inplace=True)\n",
        "\n",
        "#Tickers for stocks\n",
        "tesla['Ticker']='TSLA'\n",
        "doge['Ticker']='DOGE-USD'\n",
        "#datagold['Ticker']='GLD'\n",
        "exon['Ticker']='XOM'\n",
        "datamoderna['Ticker']='MRNA'\n",
        "#eth['Ticker']='ETH-USD'"
      ],
      "metadata": {
        "id": "SWapQn7hwAoD"
      },
      "execution_count": null,
      "outputs": []
    },
    {
      "cell_type": "code",
      "source": [
        "# create new dataset with emty rows for futur forecasts\n",
        "doge_ols = pd.concat([doge,exon,datamoderna,tesla], axis=0)\n",
        "#stock['Date']= pd.to_datetime(stock['Date'])\n",
        "doge_ols.set_index('Date')\n",
        "doge_ols.set_index('Ticker')\n",
        "\n",
        "#SCALING\n",
        "from sklearn.preprocessing import StandardScaler\n",
        "data_gr1= doge_ols[['Ticker','Close','Date']].pivot_table(index='Date', columns='Ticker', values='Close').dropna()\n",
        "X = data_gr1[['DOGE-USD','MRNA','TSLA','XOM']].copy()\n",
        "scaleX = StandardScaler().fit(X)\n",
        "data_std = pd.DataFrame(scaleX.transform(X), index=X.index, columns=X.columns)\n",
        "\n",
        "data_fcst = data_std.copy()\n",
        "data_fcst = data_fcst.append(pd.DataFrame(index = pd.date_range(start='2021-12-01', periods=n, freq='D'))) #making lags \n",
        "\n",
        "data_fcst = data_fcst.assign(**{\n",
        "    f'{col}_lag': data_fcst[col].shift(n)\n",
        "    for col in [\"DOGE-USD\",\"MRNA\",\"TSLA\",'XOM']})\n",
        "data_fcst = data_fcst.drop(['MRNA','XOM','TSLA'], axis=1).dropna(subset=[ 'TSLA_lag','DOGE-USD_lag','MRNA_lag','XOM_lag'])"
      ],
      "metadata": {
        "id": "NcTOSrkLwDhq"
      },
      "execution_count": null,
      "outputs": []
    },
    {
      "cell_type": "code",
      "source": [
        "from statsmodels.formula.api import ols\n",
        "\n",
        "modFRCST = ols(formula='DOGE-USD ~ DOGE-USD_lag + TSLA_lag + MRNA_lag + XOM_lag',\n",
        "               data=data_fcst)\n",
        "\n",
        "resFRCST = modFRCST.fit()\n",
        "\n",
        "#we print the result\n",
        "print(resFRCST.summary())"
      ],
      "metadata": {
        "id": "RVJyK9clwF9h"
      },
      "execution_count": null,
      "outputs": []
    }
  ]
}